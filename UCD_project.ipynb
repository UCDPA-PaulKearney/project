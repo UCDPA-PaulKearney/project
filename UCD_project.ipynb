{
 "cells": [
  {
   "cell_type": "code",
   "execution_count": 1,
   "id": "1bf98841-27fa-4815-b8f7-d32e8dd2be2a",
   "metadata": {},
   "outputs": [
    {
     "name": "stdout",
     "output_type": "stream",
     "text": [
      "Tickers in S&P: 504\n",
      "                      open        high         low       close    adjclose  \\\n",
      "A   2021-01-04  118.940002  120.089996  117.110001  118.639999  118.001701   \n",
      "    2021-01-05  118.480003  120.320000  118.070000  119.610001  118.966484   \n",
      "    2021-01-06  118.690002  123.879997  118.209999  122.889999  122.228828   \n",
      "    2021-01-07  124.330002  127.480003  124.110001  126.160004  125.481255   \n",
      "    2021-01-08  126.489998  127.639999  125.849998  127.059998  126.376396   \n",
      "...                    ...         ...         ...         ...         ...   \n",
      "ZTS 2022-04-25  180.690002  181.110001  176.440002  180.300003  180.300003   \n",
      "    2022-04-26  178.960007  179.679993  176.809998  176.970001  176.970001   \n",
      "    2022-04-27  177.929993  180.229996  177.059998  178.470001  178.470001   \n",
      "    2022-04-28  179.080002  182.220001  178.179993  181.309998  181.309998   \n",
      "    2022-04-29  180.000000  181.860001  176.789993  177.250000  177.250000   \n",
      "\n",
      "                 volume ticker  \n",
      "A   2021-01-04  2030700      A  \n",
      "    2021-01-05  2344000      A  \n",
      "    2021-01-06  2428500      A  \n",
      "    2021-01-07  1775900      A  \n",
      "    2021-01-08  1577200      A  \n",
      "...                 ...    ...  \n",
      "ZTS 2022-04-25  2097000    ZTS  \n",
      "    2022-04-26  2449100    ZTS  \n",
      "    2022-04-27  1621200    ZTS  \n",
      "    2022-04-28  2339000    ZTS  \n",
      "    2022-04-29  2251800    ZTS  \n",
      "\n",
      "[167982 rows x 7 columns]\n"
     ]
    }
   ],
   "source": [
    "import yahoo_fin.stock_info as si\n",
    "import pandas as pd\n",
    "import numpy as np\n",
    "import matplotlib.pyplot as plt\n",
    "import seaborn as sns\n",
    "\n",
    "startdate = '2021-01-01'\n",
    "enddate = '2022-04-30'\n",
    "\n",
    "sp500_list = si.tickers_sp500()\n",
    "print(\"Tickers in S&P:\", len(sp500_list))\n",
    "sp500_list[0:10]\n",
    "\n",
    "sp500_historical = {}\n",
    "for ticker in sp500_list:\n",
    "    sp500_historical[ticker] = si.get_data(ticker, start_date=startdate, end_date=enddate, interval=\"1d\")\n",
    "    \n",
    "    \n",
    "combined = pd.concat(sp500_historical)   \n",
    "df = pd.DataFrame(combined)\n",
    "\n",
    "print(df)"
   ]
  },
  {
   "cell_type": "code",
   "execution_count": 38,
   "id": "d0997da8-05a9-4e0a-a325-f274d58e55b4",
   "metadata": {},
   "outputs": [
    {
     "name": "stdout",
     "output_type": "stream",
     "text": [
      "<class 'pandas.core.frame.DataFrame'>\n",
      "RangeIndex: 168316 entries, 0 to 168315\n",
      "Data columns (total 5 columns):\n",
      " #   Column  Non-Null Count   Dtype         \n",
      "---  ------  --------------   -----         \n",
      " 0   index   168316 non-null  int64         \n",
      " 1   date    168316 non-null  datetime64[ns]\n",
      " 2   ticker  168316 non-null  object        \n",
      " 3   open    168316 non-null  float64       \n",
      " 4   close   168316 non-null  float64       \n",
      "dtypes: datetime64[ns](1), float64(2), int64(1), object(1)\n",
      "memory usage: 6.4+ MB\n",
      "None\n"
     ]
    }
   ],
   "source": [
    "df = df.reset_index(drop=False)\n",
    "df.drop_duplicates()\n",
    "print(df.info()) # to find NAN"
   ]
  },
  {
   "cell_type": "code",
   "execution_count": 3,
   "id": "144495d3-3c8d-463b-a3a0-d924cecccbee",
   "metadata": {},
   "outputs": [
    {
     "name": "stdout",
     "output_type": "stream",
     "text": [
      "       level_0    level_1        open       close\n",
      "0            A 2021-01-04  118.940002  118.639999\n",
      "1            A 2021-01-05  118.480003  119.610001\n",
      "2            A 2021-01-06  118.690002  122.889999\n",
      "3            A 2021-01-07  124.330002  126.160004\n",
      "4            A 2021-01-08  126.489998  127.059998\n",
      "...        ...        ...         ...         ...\n",
      "167977     ZTS 2022-04-25  180.690002  180.300003\n",
      "167978     ZTS 2022-04-26  178.960007  176.970001\n",
      "167979     ZTS 2022-04-27  177.929993  178.470001\n",
      "167980     ZTS 2022-04-28  179.080002  181.309998\n",
      "167981     ZTS 2022-04-29  180.000000  177.250000\n",
      "\n",
      "[167982 rows x 4 columns]\n"
     ]
    }
   ],
   "source": [
    "#drop unwanted columns\n",
    "df = df.drop(columns=['high', 'low', 'adjclose', 'volume', 'ticker'])\n",
    "\n",
    "\n",
    "print(df)\n",
    "\n"
   ]
  },
  {
   "cell_type": "code",
   "execution_count": 4,
   "id": "10d51891-2659-4272-9486-94db8fd5a6a8",
   "metadata": {},
   "outputs": [
    {
     "name": "stdout",
     "output_type": "stream",
     "text": [
      "       ticker       date        open       close\n",
      "0           A 2021-01-04  118.940002  118.639999\n",
      "1           A 2021-01-05  118.480003  119.610001\n",
      "2           A 2021-01-06  118.690002  122.889999\n",
      "3           A 2021-01-07  124.330002  126.160004\n",
      "4           A 2021-01-08  126.489998  127.059998\n",
      "...       ...        ...         ...         ...\n",
      "167977    ZTS 2022-04-25  180.690002  180.300003\n",
      "167978    ZTS 2022-04-26  178.960007  176.970001\n",
      "167979    ZTS 2022-04-27  177.929993  178.470001\n",
      "167980    ZTS 2022-04-28  179.080002  181.309998\n",
      "167981    ZTS 2022-04-29  180.000000  177.250000\n",
      "\n",
      "[167982 rows x 4 columns]\n"
     ]
    }
   ],
   "source": [
    "#rename columns\n",
    "df = df.rename(columns={'level_0':'ticker', 'level_1':'date'})\n",
    "\n",
    "print(df)"
   ]
  },
  {
   "cell_type": "code",
   "execution_count": 39,
   "id": "7b0f459a-721e-439f-b1bf-bcc3d010e837",
   "metadata": {},
   "outputs": [
    {
     "name": "stdout",
     "output_type": "stream",
     "text": [
      "<class 'pandas.core.frame.DataFrame'>\n",
      "RangeIndex: 1259 entries, 0 to 1258\n",
      "Data columns (total 6 columns):\n",
      " #   Column      Non-Null Count  Dtype  \n",
      "---  ------      --------------  -----  \n",
      " 0   Date        1259 non-null   object \n",
      " 1   Close/Last  1259 non-null   float64\n",
      " 2   Volume      1259 non-null   object \n",
      " 3   Open        1259 non-null   float64\n",
      " 4   High        1259 non-null   float64\n",
      " 5   Low         1259 non-null   float64\n",
      "dtypes: float64(4), object(2)\n",
      "memory usage: 59.1+ KB\n",
      "None\n",
      "    ticker       date     open    close\n",
      "346    SPX 2021-01-04  3764.61  3700.65\n",
      "345    SPX 2021-01-05  3698.02  3726.86\n",
      "344    SPX 2021-01-06  3712.20  3748.14\n",
      "343    SPX 2021-01-07  3764.71  3803.79\n",
      "342    SPX 2021-01-08  3815.05  3824.68\n",
      "..     ...        ...      ...      ...\n",
      "17     SPX 2022-04-25  4255.34  4296.12\n",
      "16     SPX 2022-04-26  4278.14  4175.20\n",
      "15     SPX 2022-04-27  4186.52  4183.96\n",
      "14     SPX 2022-04-28  4222.58  4287.50\n",
      "13     SPX 2022-04-29  4253.75  4131.93\n",
      "\n",
      "[334 rows x 4 columns]\n"
     ]
    }
   ],
   "source": [
    "#Append SPX data from CSV\n",
    "spx = pd.read_csv(r\"spx_5_year.csv\")\n",
    "spx.drop_duplicates()\n",
    "print(spx.info())\n",
    "\n",
    "#Transform date from mm/dd/yyyy to yyyy-mm-dd\n",
    "spx['Date'] = pd.to_datetime(spx['Date'])\n",
    "spx = spx.drop(columns=['High', 'Low', 'Volume'])\n",
    "spx.insert(loc=0, column='ticker', value='SPX')\n",
    "spx = spx.rename(columns={'Date':'date', 'Close/Last':'close', 'Open':'open'})\n",
    "spx = spx.iloc[:, [0,1,3,2]]\n",
    "mask = (spx['date'] > startdate) & (spx['date'] <= enddate)\n",
    "spx = spx.loc[mask]\n",
    "spx = spx.sort_values(by='date')\n",
    "print(spx)\n"
   ]
  },
  {
   "cell_type": "code",
   "execution_count": 6,
   "id": "7c7d4ce9-a98c-4315-beb8-b7346af78ba2",
   "metadata": {},
   "outputs": [
    {
     "name": "stdout",
     "output_type": "stream",
     "text": [
      "       ticker       date         open        close\n",
      "0           A 2021-01-04   118.940002   118.639999\n",
      "1           A 2021-01-05   118.480003   119.610001\n",
      "2           A 2021-01-06   118.690002   122.889999\n",
      "3           A 2021-01-07   124.330002   126.160004\n",
      "4           A 2021-01-08   126.489998   127.059998\n",
      "...       ...        ...          ...          ...\n",
      "168311    SPX 2022-04-25  4255.340000  4296.120000\n",
      "168312    SPX 2022-04-26  4278.140000  4175.200000\n",
      "168313    SPX 2022-04-27  4186.520000  4183.960000\n",
      "168314    SPX 2022-04-28  4222.580000  4287.500000\n",
      "168315    SPX 2022-04-29  4253.750000  4131.930000\n",
      "\n",
      "[168316 rows x 4 columns]\n"
     ]
    }
   ],
   "source": [
    "# append spx datafame to df dataframe\n",
    "df = pd.concat([df, spx], ignore_index=True)\n",
    "\n",
    "print(df)"
   ]
  },
  {
   "cell_type": "code",
   "execution_count": 7,
   "id": "248faafe-fbfa-4b1d-84f7-8a0fb4c6b8ab",
   "metadata": {},
   "outputs": [
    {
     "name": "stdout",
     "output_type": "stream",
     "text": [
      "             date ticker         open        close\n",
      "0      2021-01-04      A   118.940002   118.639999\n",
      "1      2021-01-05      A   118.480003   119.610001\n",
      "2      2021-01-06      A   118.690002   122.889999\n",
      "3      2021-01-07      A   124.330002   126.160004\n",
      "4      2021-01-08      A   126.489998   127.059998\n",
      "...           ...    ...          ...          ...\n",
      "168311 2022-04-25    SPX  4255.340000  4296.120000\n",
      "168312 2022-04-26    SPX  4278.140000  4175.200000\n",
      "168313 2022-04-27    SPX  4186.520000  4183.960000\n",
      "168314 2022-04-28    SPX  4222.580000  4287.500000\n",
      "168315 2022-04-29    SPX  4253.750000  4131.930000\n",
      "\n",
      "[168316 rows x 4 columns]\n"
     ]
    }
   ],
   "source": [
    "#Add column for previous days close\n",
    "#df['prev_close'] = df['close'].shift(1)\n",
    "df = df.iloc[:, [1, 0, 2, 3]]\n",
    "\n",
    "print(df)"
   ]
  },
  {
   "cell_type": "code",
   "execution_count": 28,
   "id": "a940b023-4d02-40e0-bdb3-d4c5fd0be511",
   "metadata": {},
   "outputs": [
    {
     "name": "stdout",
     "output_type": "stream",
     "text": [
      "    ticker   %_change\n",
      "0        A   0.277446\n",
      "1      AAL  18.422713\n",
      "2      AAP  26.428127\n",
      "3     AAPL  18.072191\n",
      "4     ABBV  37.040497\n",
      "..     ...        ...\n",
      "500   ZBRA  -4.171094\n",
      "501   ZION  31.174549\n",
      "502    ZTS   6.777108\n",
      "503    OGN   4.290328\n",
      "504    CEG  55.815787\n",
      "\n",
      "[505 rows x 2 columns]\n",
      "    ticker    %_change\n",
      "313    MRO  267.551612     ticker   %_change\n",
      "327   NFLX -64.682746     ticker  %_change\n",
      "417    SPX  9.757186\n"
     ]
    },
    {
     "data": {
      "image/png": "[encoded data removed]",
      "text/plain": [
       "<Figure size 432x288 with 1 Axes>"
      ]
     },
     "metadata": {
      "needs_background": "light"
     },
     "output_type": "display_data"
    }
   ],
   "source": [
    "#Find buy & hold result for each company by subtracting close price from open price\n",
    "buy_price = df.sort_values(df.columns.tolist()).drop_duplicates(subset=['ticker'], keep='first')\n",
    "#buy_price = df.drop(columns=['date', 'close'])\n",
    "\n",
    "sell_price = df.sort_values(df.columns.tolist()).drop_duplicates(subset=['ticker'], keep='last')\n",
    "#sell_price = df.drop(columns=['date', 'open'])\n",
    "\n",
    "\n",
    "\n",
    "#print(buy_price)\n",
    "#print(sell_price)\n",
    "\n",
    "buy_hold = pd.merge(buy_price, sell_price, on='ticker', suffixes=['_buy', '_sell'])\n",
    "buy_hold = buy_hold.drop(columns=['date_buy', 'close_buy', 'date_sell' , 'open_sell'])\n",
    "buy_hold['%_change'] = ((buy_hold['close_sell'] - buy_hold['open_buy'])/buy_hold['open_buy']*100)\n",
    "buy_hold = buy_hold.drop(columns=['open_buy', 'close_sell'])\n",
    "sns.histplot(buy_hold['%_change']).set(title='Buy & Hold Strategy')\n",
    "plt.axvline(9.757186, 0, 1, color='r', label='SPX')\n",
    "\n",
    "print(buy_hold)\n",
    "\n",
    "hold_max = buy_hold.loc[buy_hold['%_change'] == max(buy_hold['%_change'])]\n",
    "hold_min = buy_hold.loc[buy_hold['%_change'] == min(buy_hold['%_change'])]\n",
    "hold_spx = buy_hold.loc[buy_hold['ticker'] == 'SPX']\n",
    "\n",
    "\n",
    "\n",
    "\n",
    "\n",
    "print(hold_max, hold_min, hold_spx)"
   ]
  },
  {
   "cell_type": "code",
   "execution_count": 45,
   "id": "7b1b3e60-a82f-415f-b522-7738bb99e151",
   "metadata": {},
   "outputs": [
    {
     "data": {
      "text/plain": [
       "<matplotlib.lines.Line2D at 0x1856ab088e0>"
      ]
     },
     "execution_count": 45,
     "metadata": {},
     "output_type": "execute_result"
    },
    {
     "data": {
      "image/png": "[encoded data removed]",
      "text/plain": [
       "<Figure size 432x288 with 1 Axes>"
      ]
     },
     "metadata": {
      "needs_background": "light"
     },
     "output_type": "display_data"
    }
   ],
   "source": [
    "# replace outliers\n",
    "\n",
    "df_adj = buy_hold\n",
    "def outliers():\n",
    "    for x in ['%_change']:\n",
    "        q75, q25 = np.percentile(df_adj.loc[:,x],[75,24])\n",
    "        intr_qr = q75-q25\n",
    " \n",
    "        max = q75+(1.5*intr_qr)\n",
    "        min = q25-(1.5*intr_qr)\n",
    " \n",
    "        df_adj.loc[df_adj[x] < min,x] = np.nan\n",
    "        df_adj.loc[df_adj[x] > max,x] = np.nan\n",
    "    \n",
    "    \n",
    "sns.histplot(buy_hold['%_change']).set(title='Buy & Hold Strategy')\n",
    "plt.axvline(9.757186, 0, 1, color='r', label='SPX')    \n",
    "\n",
    "\n",
    "\n",
    "\n",
    "\n",
    "\n",
    "\n"
   ]
  },
  {
   "cell_type": "code",
   "execution_count": 29,
   "id": "27996984-ac3e-4fec-a7c4-763d469df4ff",
   "metadata": {},
   "outputs": [
    {
     "name": "stdout",
     "output_type": "stream",
     "text": [
      "    ticker    %_change\n",
      "312   MRNA  285.393136     ticker    %_change\n",
      "359   PENN -106.392222     ticker  %_change\n",
      "417    SPX   0.60564\n"
     ]
    },
    {
     "data": {
      "image/png": "[encoded data removed]",
      "text/plain": [
       "<Figure size 432x288 with 1 Axes>"
      ]
     },
     "metadata": {
      "needs_background": "light"
     },
     "output_type": "display_data"
    }
   ],
   "source": [
    "# find the buy at open and sell at close result for each company\n",
    "acc_buy_pl = df.copy()\n",
    "acc_buy_pl['difference'] = acc_buy_pl['close'] - acc_buy_pl['open']\n",
    "acc_buy_pl = acc_buy_pl.groupby(['ticker'])['difference'].sum()\n",
    "buy_open = pd.merge(buy_price, acc_buy_pl, on='ticker', suffixes=['_buy', '_pl'])\n",
    "buy_open['%_change'] = (buy_open['difference']/buy_open['open']) * 100\n",
    "buy_open = buy_open.drop(columns=['date', 'open', 'close', 'difference'])\n",
    "sns.histplot(buy_open['%_change']).set(title='Buy at open sell at close Strategy')\n",
    "plt.axvline(0.60564, 0, 1, color='r', label='SPX')\n",
    "\n",
    "\n",
    "open_max = buy_open.loc[buy_open['%_change'] == max(buy_open['%_change'])]\n",
    "open_min = buy_open.loc[buy_open['%_change'] == min(buy_open['%_change'])]\n",
    "open_spx = buy_open.loc[buy_open['ticker'] == 'SPX']\n",
    "\n",
    "\n",
    "\n",
    "print(open_max, open_min, open_spx)"
   ]
  },
  {
   "cell_type": "code",
   "execution_count": 49,
   "id": "b40f43c6-8604-45f9-a01d-3b19e725bb2a",
   "metadata": {},
   "outputs": [
    {
     "data": {
      "text/plain": [
       "<matplotlib.lines.Line2D at 0x185692d1e20>"
      ]
     },
     "execution_count": 49,
     "metadata": {},
     "output_type": "execute_result"
    },
    {
     "data": {
      "image/png": "[encoded data removed]",
      "text/plain": [
       "<Figure size 432x288 with 1 Axes>"
      ]
     },
     "metadata": {
      "needs_background": "light"
     },
     "output_type": "display_data"
    }
   ],
   "source": [
    "df_adj = buy_open\n",
    "\n",
    "outliers()\n",
    "sns.histplot(buy_open['%_change']).set(title='Buy at open sell at close Strategy')\n",
    "plt.axvline(0.60564, 0, 1, color='r', label='SPX')\n"
   ]
  },
  {
   "cell_type": "code",
   "execution_count": 33,
   "id": "cb24e084-8cc1-4dbf-8a9f-deaa90815913",
   "metadata": {},
   "outputs": [
    {
     "name": "stdout",
     "output_type": "stream",
     "text": [
      "    ticker    %_change\n",
      "0        A   33.985300\n",
      "1      AAL -594.051379\n",
      "2      AAP  110.563111\n",
      "3     AAPL  -53.651144\n",
      "4     ABBV  -64.832509\n",
      "..     ...         ...\n",
      "500   ZBRA  108.235347\n",
      "501   ZION -728.604782\n",
      "502    ZTS   83.305750\n",
      "503    OGN -766.932380\n",
      "504    CEG -259.530967\n",
      "\n",
      "[505 rows x 2 columns]\n",
      "    ticker    %_change\n",
      "204   GNRC  166.779608     ticker      %_change\n",
      "341    NWL -20041.870715     ticker    %_change\n",
      "417    SPX  106.248362\n"
     ]
    },
    {
     "data": {
      "image/png": "[encoded data removed]",
      "text/plain": [
       "<Figure size 432x288 with 1 Axes>"
      ]
     },
     "metadata": {
      "needs_background": "light"
     },
     "output_type": "display_data"
    },
    {
     "data": {
      "image/png": "[encoded data removed]",
      "text/plain": [
       "<Figure size 432x288 with 1 Axes>"
      ]
     },
     "metadata": {
      "needs_background": "light"
     },
     "output_type": "display_data"
    }
   ],
   "source": [
    "#find buy at close sell at open result for each company\n",
    "acc_sell_pl = df.copy()\n",
    "\n",
    "#Add column for previous days close\n",
    "acc_sell_pl['prev_close'] = acc_sell_pl['close'].shift(1)\n",
    "\n",
    "acc_sell_pl['difference'] = acc_sell_pl['open'] - acc_sell_pl['prev_close']\n",
    "acc_sell_pl = acc_sell_pl.groupby(['ticker'])['difference'].sum()\n",
    "buy_close = pd.merge(buy_price, acc_sell_pl, on='ticker', suffixes=['_buy', '_pl'])\n",
    "buy_close['%_change'] = (buy_close['difference']/buy_close['close']) * 100\n",
    "buy_close = buy_close.drop(columns=['date', 'open', 'close', 'difference'])\n",
    "print(buy_close)\n",
    "sns.histplot(buy_close['%_change'], kde = True).set(title='Buy at close sell at open Strategy')\n",
    "plt.axvline(106.248362, 0, 1, color='r')\n",
    "buy_close.hist(bins = 15)\n",
    "plt.title('Buy at close sell at open Strategy')\n",
    "plt.axvline(106.248362, 0, 1, color='r')\n",
    "\n",
    "close_max = buy_close.loc[buy_close['%_change'] == max(buy_close['%_change'])]\n",
    "close_min = buy_close.loc[buy_close['%_change'] == min(buy_close['%_change'])]\n",
    "close_spx = buy_close.loc[buy_close['ticker'] == 'SPX']\n",
    "\n",
    "\n",
    "\n",
    "\n",
    "print(close_max, close_min, close_spx)"
   ]
  },
  {
   "cell_type": "code",
   "execution_count": 52,
   "id": "7e9d477e-7edc-4b1d-b0bf-88186bf4cce5",
   "metadata": {},
   "outputs": [
    {
     "name": "stdout",
     "output_type": "stream",
     "text": [
      "    ticker    %_change\n",
      "0        A   33.985300\n",
      "1      AAL         NaN\n",
      "2      AAP  110.563111\n",
      "3     AAPL  -53.651144\n",
      "4     ABBV  -64.832509\n",
      "..     ...         ...\n",
      "500   ZBRA  108.235347\n",
      "501   ZION         NaN\n",
      "502    ZTS   83.305750\n",
      "503    OGN         NaN\n",
      "504    CEG -259.530967\n",
      "\n",
      "[505 rows x 2 columns]\n"
     ]
    },
    {
     "data": {
      "text/plain": [
       "<matplotlib.lines.Line2D at 0x185695c0280>"
      ]
     },
     "execution_count": 52,
     "metadata": {},
     "output_type": "execute_result"
    },
    {
     "data": {
      "image/png": "[encoded data removed]",
      "text/plain": [
       "<Figure size 432x288 with 1 Axes>"
      ]
     },
     "metadata": {
      "needs_background": "light"
     },
     "output_type": "display_data"
    },
    {
     "data": {
      "image/png": "[encoded data removed]",
      "text/plain": [
       "<Figure size 432x288 with 1 Axes>"
      ]
     },
     "metadata": {
      "needs_background": "light"
     },
     "output_type": "display_data"
    }
   ],
   "source": [
    "df_adj = buy_close\n",
    "\n",
    "outliers()\n",
    "\n",
    "print(buy_close)\n",
    "\n",
    "sns.histplot(buy_close['%_change'], kde = True).set(title='Buy at close sell at open Strategy')\n",
    "plt.axvline(106.248362, 0, 1, color='r')\n",
    "buy_close.hist(bins = 15)\n",
    "plt.title('Buy at close sell at open Strategy')\n",
    "plt.axvline(106.248362, 0, 1, color='r')"
   ]
  },
  {
   "cell_type": "code",
   "execution_count": 37,
   "id": "d58450d4-5415-48f2-9986-4aa97973c53f",
   "metadata": {},
   "outputs": [
    {
     "name": "stdout",
     "output_type": "stream",
     "text": [
      "       strategy ticker    %_change\n",
      "0  buy_and_hold    SPX    9.757186\n",
      "1   buy_at_open    SPX    0.605640\n",
      "2  buy_at_close    SPX  106.248362\n"
     ]
    },
    {
     "data": {
      "image/png": "[encoded data removed]",
      "text/plain": [
       "<Figure size 432x288 with 1 Axes>"
      ]
     },
     "metadata": {
      "needs_background": "light"
     },
     "output_type": "display_data"
    }
   ],
   "source": [
    "#SPX comparison\n",
    "spx_results = pd.concat([hold_spx, open_spx, close_spx], ignore_index=True)\n",
    "spx_results.insert(loc=0, column='strategy', value=['buy_and_hold', 'buy_at_open', 'buy_at_close'])\n",
    "sns.barplot(x=spx_results['strategy'], y=spx_results['%_change']).set(title='S&P 500 index performance')\n",
    "\n",
    "print(spx_results)\n",
    "\n",
    "\n"
   ]
  },
  {
   "cell_type": "code",
   "execution_count": null,
   "id": "eb860a0f-53c4-4490-829f-873d16037f2b",
   "metadata": {},
   "outputs": [],
   "source": [
    "\n",
    "\n"
   ]
  }
 ],
 "metadata": {
  "kernelspec": {
   "display_name": "Python 3 (ipykernel)",
   "language": "python",
   "name": "python3"
  },
  "language_info": {
   "codemirror_mode": {
    "name": "ipython",
    "version": 3
   },
   "file_extension": ".py",
   "mimetype": "text/x-python",
   "name": "python",
   "nbconvert_exporter": "python",
   "pygments_lexer": "ipython3",
   "version": "3.9.7"
  }
 },
 "nbformat": 4,
 "nbformat_minor": 5
}
